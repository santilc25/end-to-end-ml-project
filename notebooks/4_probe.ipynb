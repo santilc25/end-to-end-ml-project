{
 "cells": [
  {
   "cell_type": "code",
   "execution_count": 3,
   "metadata": {},
   "outputs": [
    {
     "ename": "ImportError",
     "evalue": "cannot import name 'evaluate_models' from 'src.utils' (C:\\Users\\SantiagoLopezCarmona\\OneDrive - unimilitar.edu.co\\1-desarrollo-profesional\\1-projects\\end-to-end-ml-project\\src\\utils.py)",
     "output_type": "error",
     "traceback": [
      "\u001b[1;31m---------------------------------------------------------------------------\u001b[0m",
      "\u001b[1;31mImportError\u001b[0m                               Traceback (most recent call last)",
      "Cell \u001b[1;32mIn[3], line 3\u001b[0m\n\u001b[0;32m      1\u001b[0m \u001b[39mfrom\u001b[39;00m \u001b[39msrc\u001b[39;00m\u001b[39m.\u001b[39;00m\u001b[39mcomponents\u001b[39;00m\u001b[39m.\u001b[39;00m\u001b[39mdata_ingestion\u001b[39;00m \u001b[39mimport\u001b[39;00m DataIngestion\n\u001b[0;32m      2\u001b[0m \u001b[39mfrom\u001b[39;00m \u001b[39msrc\u001b[39;00m\u001b[39m.\u001b[39;00m\u001b[39mcomponents\u001b[39;00m\u001b[39m.\u001b[39;00m\u001b[39mdata_transformation\u001b[39;00m \u001b[39mimport\u001b[39;00m DataTransformation, DataTransformationConfig\n\u001b[1;32m----> 3\u001b[0m \u001b[39mfrom\u001b[39;00m \u001b[39msrc\u001b[39;00m\u001b[39m.\u001b[39;00m\u001b[39mcomponents\u001b[39;00m\u001b[39m.\u001b[39;00m\u001b[39mmodel_trainer\u001b[39;00m \u001b[39mimport\u001b[39;00m ModelTrainer\n",
      "File \u001b[1;32m~\\OneDrive - unimilitar.edu.co\\1-desarrollo-profesional\\1-projects\\end-to-end-ml-project\\src\\components\\model_trainer.py:19\u001b[0m\n\u001b[0;32m     17\u001b[0m \u001b[39mfrom\u001b[39;00m \u001b[39msrc\u001b[39;00m\u001b[39m.\u001b[39;00m\u001b[39mexception\u001b[39;00m \u001b[39mimport\u001b[39;00m CustomException\n\u001b[0;32m     18\u001b[0m \u001b[39mfrom\u001b[39;00m \u001b[39msrc\u001b[39;00m\u001b[39m.\u001b[39;00m\u001b[39mlogger\u001b[39;00m \u001b[39mimport\u001b[39;00m logging\n\u001b[1;32m---> 19\u001b[0m \u001b[39mfrom\u001b[39;00m \u001b[39msrc\u001b[39;00m\u001b[39m.\u001b[39;00m\u001b[39mutils\u001b[39;00m \u001b[39mimport\u001b[39;00m save_object, evaluate_models\n\u001b[0;32m     20\u001b[0m \u001b[39mfrom\u001b[39;00m \u001b[39msrc\u001b[39;00m\u001b[39m.\u001b[39;00m\u001b[39mpaths\u001b[39;00m \u001b[39mimport\u001b[39;00m \u001b[39m*\u001b[39m\n\u001b[0;32m     22\u001b[0m \u001b[39m@dataclass\u001b[39m\n\u001b[0;32m     23\u001b[0m \u001b[39mclass\u001b[39;00m \u001b[39mModelTrainerConfig\u001b[39;00m:\n",
      "\u001b[1;31mImportError\u001b[0m: cannot import name 'evaluate_models' from 'src.utils' (C:\\Users\\SantiagoLopezCarmona\\OneDrive - unimilitar.edu.co\\1-desarrollo-profesional\\1-projects\\end-to-end-ml-project\\src\\utils.py)"
     ]
    }
   ],
   "source": [
    "from src.components.data_ingestion import DataIngestion\n",
    "from src.components.data_transformation import DataTransformation, DataTransformationConfig\n",
    "from src.components.model_trainer import ModelTrainer"
   ]
  },
  {
   "cell_type": "code",
   "execution_count": 2,
   "metadata": {},
   "outputs": [],
   "source": [
    "data_ingestion =DataIngestion()\n",
    "train_data,test_data = data_ingestion.initiate_data_ingestion()"
   ]
  },
  {
   "cell_type": "code",
   "execution_count": 4,
   "metadata": {},
   "outputs": [],
   "source": [
    "data_transformation = DataTransformation()\n",
    "train_arr, test_arr, preprocessor = data_transformation.initiate_data_transformation(train_data,test_data)"
   ]
  },
  {
   "cell_type": "code",
   "execution_count": 5,
   "metadata": {},
   "outputs": [
    {
     "data": {
      "text/plain": [
       "'C:\\\\Users\\\\SantiagoLopezCarmona\\\\OneDrive - unimilitar.edu.co\\\\1-desarrollo-profesional\\\\1-projects\\\\end-to-end-ml-project\\\\artifacts\\\\proprocessor.pkl'"
      ]
     },
     "execution_count": 5,
     "metadata": {},
     "output_type": "execute_result"
    }
   ],
   "source": [
    "model_trainer = ModelTrainer()\n",
    "model_trainer.initiate_model_trainer(train_arr, test_arr)"
   ]
  }
 ],
 "metadata": {
  "kernelspec": {
   "display_name": ".venv",
   "language": "python",
   "name": "python3"
  },
  "language_info": {
   "codemirror_mode": {
    "name": "ipython",
    "version": 3
   },
   "file_extension": ".py",
   "mimetype": "text/x-python",
   "name": "python",
   "nbconvert_exporter": "python",
   "pygments_lexer": "ipython3",
   "version": "3.8.0"
  },
  "orig_nbformat": 4
 },
 "nbformat": 4,
 "nbformat_minor": 2
}
