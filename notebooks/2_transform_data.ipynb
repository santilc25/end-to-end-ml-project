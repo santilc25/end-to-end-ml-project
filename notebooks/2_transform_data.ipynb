{
 "cells": [
  {
   "cell_type": "code",
   "execution_count": 3,
   "metadata": {},
   "outputs": [],
   "source": [
    "import numpy as np\n",
    "import pandas as pd\n",
    "\n",
    "from sklearn.preprocessing import OneHotEncoder, StandardScaler\n",
    "from sklearn.compose import ColumnTransformer"
   ]
  },
  {
   "attachments": {},
   "cell_type": "markdown",
   "metadata": {},
   "source": [
    "### 1. Read data"
   ]
  },
  {
   "cell_type": "code",
   "execution_count": 9,
   "metadata": {},
   "outputs": [],
   "source": [
    "df = pd.read_csv(\"../data/raw/StudentsPerformance.csv\")"
   ]
  },
  {
   "attachments": {},
   "cell_type": "markdown",
   "metadata": {},
   "source": [
    "### 2. Get Features and target"
   ]
  },
  {
   "cell_type": "code",
   "execution_count": 25,
   "metadata": {},
   "outputs": [],
   "source": [
    "def transform_raw_data_into_features_target(df:pd.DataFrame,target):\n",
    "    ## correccion nombre columnas\n",
    "    df.columns = [col.replace(\" \",\"_\").replace(\"/\",\"_\") for col in df.columns]\n",
    "    \n",
    "    ## define features and target\n",
    "    X_ = df.drop(columns=[target])\n",
    "    y = df[target]\n",
    "    \n",
    "    ## get numerical and categorical features\n",
    "    num_features = X_.select_dtypes(exclude=\"object\").columns\n",
    "    cat_features = X_.select_dtypes(include=\"object\").columns\n",
    "    \n",
    "    ## transformations\n",
    "    numeric_transformer = StandardScaler()\n",
    "    oh_transformer = OneHotEncoder()\n",
    "    \n",
    "    preprocessor = ColumnTransformer([(\"OneHotEncoder\", oh_transformer, cat_features),\n",
    "                                      (\"StandardScaler\", numeric_transformer, num_features)])\n",
    "    \n",
    "    X = preprocessor.fit_transform(X_)\n",
    "    \n",
    "    return X,y\n",
    "    "
   ]
  },
  {
   "cell_type": "code",
   "execution_count": 26,
   "metadata": {},
   "outputs": [],
   "source": [
    "X, y = transform_raw_data_into_features_target(df=df,target='math_score')"
   ]
  },
  {
   "cell_type": "code",
   "execution_count": 28,
   "metadata": {},
   "outputs": [],
   "source": [
    "tabular_data = pd.DataFrame(X)\n",
    "tabular_data['math_score'] = y"
   ]
  },
  {
   "cell_type": "code",
   "execution_count": 31,
   "metadata": {},
   "outputs": [],
   "source": [
    "tabular_data.to_csv('../data/transformed/tadular_data.csv',index=False)"
   ]
  }
 ],
 "metadata": {
  "kernelspec": {
   "display_name": ".venv",
   "language": "python",
   "name": "python3"
  },
  "language_info": {
   "codemirror_mode": {
    "name": "ipython",
    "version": 3
   },
   "file_extension": ".py",
   "mimetype": "text/x-python",
   "name": "python",
   "nbconvert_exporter": "python",
   "pygments_lexer": "ipython3",
   "version": "3.8.0"
  },
  "orig_nbformat": 4
 },
 "nbformat": 4,
 "nbformat_minor": 2
}
